{
 "cells": [
  {
   "cell_type": "code",
   "execution_count": 1,
   "id": "c7ed7b36",
   "metadata": {},
   "outputs": [],
   "source": [
    "import pandas as pd\n",
    "import numpy as np\n",
    "import matplotlib.pyplot as plt\n",
    "import seaborn as sns\n",
    "import sqlite3"
   ]
  },
  {
   "cell_type": "code",
   "execution_count": null,
   "id": "15334813",
   "metadata": {},
   "outputs": [],
   "source": [
    "con = sqlite3.connect(\"F:\\Data Analysis Projects\\Amazon\\database.sqlite\")"
   ]
  },
  {
   "cell_type": "code",
   "execution_count": null,
   "id": "6123b223",
   "metadata": {},
   "outputs": [],
   "source": [
    "type(con)"
   ]
  },
  {
   "cell_type": "code",
   "execution_count": null,
   "id": "bfb1141d",
   "metadata": {},
   "outputs": [],
   "source": [
    "df = pd.read_sql_query(\"Select * from Reviews\",con)"
   ]
  },
  {
   "cell_type": "code",
   "execution_count": null,
   "id": "38d2db52",
   "metadata": {},
   "outputs": [],
   "source": [
    "df.head()"
   ]
  },
  {
   "cell_type": "code",
   "execution_count": null,
   "id": "619d08fa",
   "metadata": {},
   "outputs": [],
   "source": [
    "df.shape"
   ]
  },
  {
   "cell_type": "code",
   "execution_count": null,
   "id": "68ff2ed0",
   "metadata": {},
   "outputs": [],
   "source": [
    "pd.read_sql_query(\"Select * from Reviews Limit 10\",con)"
   ]
  },
  {
   "cell_type": "code",
   "execution_count": null,
   "id": "7e18fe9f",
   "metadata": {},
   "outputs": [],
   "source": [
    "pd.read_sql_query(\"SELECT * FROM sqlite_master\",con)"
   ]
  },
  {
   "cell_type": "code",
   "execution_count": null,
   "id": "447a0a3c",
   "metadata": {},
   "outputs": [],
   "source": [
    "# Perform Sentiment Analysis on Data"
   ]
  },
  {
   "cell_type": "code",
   "execution_count": null,
   "id": "fdd86719",
   "metadata": {},
   "outputs": [],
   "source": [
    "from textblob import TextBlob"
   ]
  },
  {
   "cell_type": "code",
   "execution_count": null,
   "id": "fe98527d",
   "metadata": {},
   "outputs": [],
   "source": [
    "text = df[\"Summary\"][0]\n",
    "text"
   ]
  },
  {
   "cell_type": "code",
   "execution_count": null,
   "id": "9b51da13",
   "metadata": {},
   "outputs": [],
   "source": [
    "TextBlob(text).sentiment.polarity"
   ]
  },
  {
   "cell_type": "code",
   "execution_count": null,
   "id": "90bc11a5",
   "metadata": {},
   "outputs": [],
   "source": [
    "# if there are null values use try and except"
   ]
  },
  {
   "cell_type": "code",
   "execution_count": null,
   "id": "40b09e60",
   "metadata": {},
   "outputs": [],
   "source": [
    "polarity = []\n",
    " \n",
    "\n",
    "for i in df[\"Summary\"]:\n",
    "    try:\n",
    "        polarity.append(TextBlob(i).sentiment.polarity)\n",
    "    except:\n",
    "        polarity.append(0)"
   ]
  },
  {
   "cell_type": "code",
   "execution_count": null,
   "id": "624994ce",
   "metadata": {},
   "outputs": [],
   "source": [
    "len(polarity)"
   ]
  },
  {
   "cell_type": "code",
   "execution_count": null,
   "id": "e566012f",
   "metadata": {},
   "outputs": [],
   "source": [
    "data = df.copy()"
   ]
  },
  {
   "cell_type": "code",
   "execution_count": null,
   "id": "5c6ca2de",
   "metadata": {},
   "outputs": [],
   "source": [
    "data[\"polarity\"] = polarity"
   ]
  },
  {
   "cell_type": "code",
   "execution_count": null,
   "id": "c1c22575",
   "metadata": {},
   "outputs": [],
   "source": [
    "data.head()"
   ]
  },
  {
   "cell_type": "code",
   "execution_count": null,
   "id": "2b6dda95",
   "metadata": {},
   "outputs": [],
   "source": [
    "# Perform EDA for positive sentences"
   ]
  },
  {
   "cell_type": "code",
   "execution_count": null,
   "id": "2f668747",
   "metadata": {},
   "outputs": [],
   "source": [
    "from wordcloud import WordCloud, STOPWORDS"
   ]
  },
  {
   "cell_type": "code",
   "execution_count": null,
   "id": "4c82f132",
   "metadata": {},
   "outputs": [],
   "source": [
    "stopwords = STOPWORDS"
   ]
  },
  {
   "cell_type": "code",
   "execution_count": null,
   "id": "2de62c32",
   "metadata": {},
   "outputs": [],
   "source": [
    "type(stopwords)"
   ]
  },
  {
   "cell_type": "code",
   "execution_count": null,
   "id": "9ddd178a",
   "metadata": {},
   "outputs": [],
   "source": [
    "data_positive = data[data[\"polarity\"]>0]"
   ]
  },
  {
   "cell_type": "code",
   "execution_count": null,
   "id": "0aef058f",
   "metadata": {},
   "outputs": [],
   "source": [
    "data_positive.shape"
   ]
  },
  {
   "cell_type": "code",
   "execution_count": null,
   "id": "5342af11",
   "metadata": {},
   "outputs": [],
   "source": [
    "total_text = ''.join(data_positive[\"Summary\"])"
   ]
  },
  {
   "cell_type": "code",
   "execution_count": null,
   "id": "24de6e90",
   "metadata": {},
   "outputs": [],
   "source": [
    "total_text[:5000]"
   ]
  },
  {
   "cell_type": "code",
   "execution_count": null,
   "id": "2f44e43e",
   "metadata": {},
   "outputs": [],
   "source": [
    "len(total_text)"
   ]
  },
  {
   "cell_type": "code",
   "execution_count": null,
   "id": "14847a11",
   "metadata": {},
   "outputs": [],
   "source": [
    "import re\n"
   ]
  },
  {
   "cell_type": "code",
   "execution_count": null,
   "id": "445b9359",
   "metadata": {},
   "outputs": [],
   "source": [
    "# Here ^ is except. It tells except a-zA-Z substitute it with space\n",
    "\n",
    "total_text = re.sub('[^a-zA-Z]',' ',total_text)"
   ]
  },
  {
   "cell_type": "code",
   "execution_count": null,
   "id": "c3961fd8",
   "metadata": {},
   "outputs": [],
   "source": [
    "total_text"
   ]
  },
  {
   "cell_type": "code",
   "execution_count": null,
   "id": "123877b4",
   "metadata": {},
   "outputs": [],
   "source": [
    "# It tells if we have more than one extra space replace it with one space\n",
    "\n",
    "total_text = re.sub(' +',' ',total_text)\n",
    "total_text"
   ]
  },
  {
   "cell_type": "code",
   "execution_count": null,
   "id": "cfdbf116",
   "metadata": {},
   "outputs": [],
   "source": [
    "wordcloud = WordCloud(width = 400, height = 200, stopwords = stopwords).generate(total_text)\n",
    "plt.figure(figsize = (15,5))\n",
    "plt.imshow(wordcloud)\n",
    "plt.axis(\"off\")"
   ]
  },
  {
   "cell_type": "code",
   "execution_count": null,
   "id": "c3cafbb0",
   "metadata": {},
   "outputs": [],
   "source": [
    "# Perform EDA for negative sentences"
   ]
  },
  {
   "cell_type": "code",
   "execution_count": null,
   "id": "a30bab07",
   "metadata": {},
   "outputs": [],
   "source": [
    "data_negative = data[data[\"polarity\"]<0]"
   ]
  },
  {
   "cell_type": "code",
   "execution_count": null,
   "id": "46906803",
   "metadata": {},
   "outputs": [],
   "source": [
    "total_text2 = ''.join(data_negative[\"Summary\"])"
   ]
  },
  {
   "cell_type": "code",
   "execution_count": null,
   "id": "75854030",
   "metadata": {},
   "outputs": [],
   "source": [
    "total_text2 = re.sub('[^a-zA-Z]',' ',total_text2)\n",
    "total_text2"
   ]
  },
  {
   "cell_type": "code",
   "execution_count": null,
   "id": "38c7362a",
   "metadata": {},
   "outputs": [],
   "source": [
    "total_text2 = re.sub(' +',' ',total_text2)\n",
    "total_text2"
   ]
  },
  {
   "cell_type": "code",
   "execution_count": null,
   "id": "76f45835",
   "metadata": {},
   "outputs": [],
   "source": [
    "wordcloud2 = WordCloud(width = 1000, height = 500, stopwords = stopwords).generate(total_text2)\n",
    "plt.figure(figsize = (15,5))\n",
    "plt.imshow(wordcloud2)\n",
    "plt.axis(\"off\")"
   ]
  },
  {
   "cell_type": "code",
   "execution_count": null,
   "id": "a3a11b9e",
   "metadata": {},
   "outputs": [],
   "source": [
    "# Analysis, to what type of user Amazon recommend more product"
   ]
  },
  {
   "cell_type": "code",
   "execution_count": null,
   "id": "a41ae247",
   "metadata": {},
   "outputs": [],
   "source": [
    "df.head()"
   ]
  },
  {
   "cell_type": "code",
   "execution_count": null,
   "id": "0894a970",
   "metadata": {},
   "outputs": [],
   "source": [
    "df[\"UserId\"].nunique()"
   ]
  },
  {
   "cell_type": "code",
   "execution_count": null,
   "id": "5476b8ae",
   "metadata": {},
   "outputs": [],
   "source": [
    "raw = df.groupby(\"UserId\").agg({\"Summary\":\"count\",\"Text\":\"count\",\"Score\":\"mean\",\"ProductId\":\"count\"}).sort_values(by = \"ProductId\",ascending = False)"
   ]
  },
  {
   "cell_type": "code",
   "execution_count": null,
   "id": "8916f335",
   "metadata": {},
   "outputs": [],
   "source": [
    "raw.columns = [\"Number of Summaries\",\"Number of Text\",\"Avg Score\",\"Number of Product Purchased\"]"
   ]
  },
  {
   "cell_type": "code",
   "execution_count": null,
   "id": "943ec6ae",
   "metadata": {},
   "outputs": [],
   "source": [
    "raw.head()"
   ]
  },
  {
   "cell_type": "code",
   "execution_count": null,
   "id": "c28c4561",
   "metadata": {},
   "outputs": [],
   "source": [
    "user_index10 = raw.index[0:10]\n",
    "number_10 = raw[\"Number of Product Purchased\"][0:10]"
   ]
  },
  {
   "cell_type": "code",
   "execution_count": null,
   "id": "529b27dd",
   "metadata": {},
   "outputs": [],
   "source": [
    "plt.figure(figsize = (20,5))\n",
    "plt.bar(user_index10, number_10, label =\"Most Recommended Users\", width = 0.8 )\n",
    "plt.xlabel(\"UserId\")\n",
    "plt.ylabel(\"Number of Product Purchased\")\n",
    "plt.xticks(rotation = \"vertical\")"
   ]
  },
  {
   "cell_type": "code",
   "execution_count": null,
   "id": "7db5b9a6",
   "metadata": {},
   "outputs": [],
   "source": [
    "# Analyze the length of the comment, whether customer are giving lengthy comment or short one"
   ]
  },
  {
   "cell_type": "code",
   "execution_count": null,
   "id": "05a52592",
   "metadata": {},
   "outputs": [],
   "source": [
    "final = df[0:2000]"
   ]
  },
  {
   "cell_type": "code",
   "execution_count": null,
   "id": "e7e8a3a8",
   "metadata": {},
   "outputs": [],
   "source": [
    "final.head()"
   ]
  },
  {
   "cell_type": "code",
   "execution_count": null,
   "id": "49be152e",
   "metadata": {},
   "outputs": [],
   "source": [
    "final.isnull().sum()"
   ]
  },
  {
   "cell_type": "code",
   "execution_count": null,
   "id": "9e039609",
   "metadata": {},
   "outputs": [],
   "source": [
    "final.duplicated().sum()"
   ]
  },
  {
   "cell_type": "code",
   "execution_count": null,
   "id": "f57bdfb1",
   "metadata": {},
   "outputs": [],
   "source": [
    "# We have to split the text on the basis of space other wise while calculating length it count spaces also\n",
    "\n",
    "len(final[\"Text\"][0].split(' '))"
   ]
  },
  {
   "cell_type": "code",
   "execution_count": null,
   "id": "d1493f09",
   "metadata": {},
   "outputs": [],
   "source": [
    "def cal_len(text):\n",
    "    return len(text.split(' '))"
   ]
  },
  {
   "cell_type": "code",
   "execution_count": null,
   "id": "77987c42",
   "metadata": {},
   "outputs": [],
   "source": [
    "# Now we have to map or apply the function\n",
    "\n",
    "final[\"Text_Length\"] = final[\"Text\"].apply(cal_len)"
   ]
  },
  {
   "cell_type": "code",
   "execution_count": null,
   "id": "faa395dc",
   "metadata": {},
   "outputs": [],
   "source": [
    "final.head()"
   ]
  },
  {
   "cell_type": "code",
   "execution_count": null,
   "id": "a362905e",
   "metadata": {},
   "outputs": [],
   "source": [
    "import plotly.express as px"
   ]
  },
  {
   "cell_type": "code",
   "execution_count": null,
   "id": "4ef7f306",
   "metadata": {},
   "outputs": [],
   "source": [
    "px.box(final, y = \"Text_Length\")"
   ]
  },
  {
   "cell_type": "code",
   "execution_count": null,
   "id": "4be585f9",
   "metadata": {},
   "outputs": [],
   "source": [
    "sns.countplot(final[\"Score\"])"
   ]
  },
  {
   "cell_type": "code",
   "execution_count": null,
   "id": "1e82e45c",
   "metadata": {},
   "outputs": [],
   "source": [
    "# Convert all the words in lower letter because if we do not, Care or care can be different"
   ]
  },
  {
   "cell_type": "code",
   "execution_count": null,
   "id": "26eb13c0",
   "metadata": {},
   "outputs": [],
   "source": [
    "final[\"Text\"] = final[\"Text\"].str.lower()"
   ]
  },
  {
   "cell_type": "code",
   "execution_count": null,
   "id": "f9f48769",
   "metadata": {},
   "outputs": [],
   "source": [
    "final.head()"
   ]
  },
  {
   "cell_type": "code",
   "execution_count": null,
   "id": "01f30c49",
   "metadata": {},
   "outputs": [],
   "source": [
    "data = final[\"Text\"][180]\n",
    "data"
   ]
  },
  {
   "cell_type": "code",
   "execution_count": null,
   "id": "9df9ca46",
   "metadata": {},
   "outputs": [],
   "source": [
    "punctuation = '''?,\\/@$#%!-'''\n",
    "no_punc = ''\n",
    "\n",
    "for char in data:\n",
    "    if char not in punctuation:\n",
    "        no_punc = no_punc + char\n",
    "        \n",
    "no_punc\n"
   ]
  },
  {
   "cell_type": "code",
   "execution_count": null,
   "id": "617ec13b",
   "metadata": {},
   "outputs": [],
   "source": [
    "final.head()"
   ]
  },
  {
   "cell_type": "code",
   "execution_count": null,
   "id": "4bd7483b",
   "metadata": {},
   "outputs": [],
   "source": [
    "import string\n",
    "\n",
    "punctuations = string.punctuation\n",
    "\n",
    "def remove_punc(texts):\n",
    "    no_punc = ''\n",
    "    for char in texts:\n",
    "         if char not in punctuations:\n",
    "                no_punc = no_punc + char\n",
    "    return no_punc\n",
    "        \n",
    "\n",
    "    "
   ]
  },
  {
   "cell_type": "code",
   "execution_count": null,
   "id": "927fef08",
   "metadata": {},
   "outputs": [],
   "source": [
    "final[\"Text\"] = final[\"Text\"].apply(remove_punc)"
   ]
  },
  {
   "cell_type": "code",
   "execution_count": null,
   "id": "ea699cba",
   "metadata": {},
   "outputs": [],
   "source": [
    "final[\"Text\"][164]"
   ]
  },
  {
   "cell_type": "code",
   "execution_count": null,
   "id": "1f7bd332",
   "metadata": {},
   "outputs": [],
   "source": [
    "final.head()"
   ]
  },
  {
   "cell_type": "code",
   "execution_count": null,
   "id": "2ccb804a",
   "metadata": {},
   "outputs": [],
   "source": [
    "data = final[\"Text\"][180]\n",
    "data"
   ]
  },
  {
   "cell_type": "code",
   "execution_count": null,
   "id": "46def38f",
   "metadata": {},
   "outputs": [],
   "source": [
    "import nltk\n",
    "from nltk.corpus import stopwords"
   ]
  },
  {
   "cell_type": "code",
   "execution_count": null,
   "id": "269499d9",
   "metadata": {},
   "outputs": [],
   "source": [
    "re = [word for word in data.split(' ') if word not in set(stopwords.words(\"english\"))]\n",
    "re"
   ]
  },
  {
   "cell_type": "code",
   "execution_count": null,
   "id": "e8b32106",
   "metadata": {},
   "outputs": [],
   "source": [
    "strs = ''\n",
    "for wd in re:\n",
    "    strs = strs + wd\n",
    "    strs = strs + \" \"\n",
    "strs"
   ]
  },
  {
   "cell_type": "code",
   "execution_count": null,
   "id": "5100e76e",
   "metadata": {},
   "outputs": [],
   "source": [
    "def remove_stopwords(review):\n",
    "    return' '.join([word for word in data.split(' ') if word not in set(stopwords.words(\"english\"))])"
   ]
  },
  {
   "cell_type": "code",
   "execution_count": null,
   "id": "b24ab6ec",
   "metadata": {},
   "outputs": [],
   "source": [
    "final[\"Text\"] = final[\"Text\"].apply(remove_stopwords)"
   ]
  },
  {
   "cell_type": "code",
   "execution_count": null,
   "id": "66f7e353",
   "metadata": {},
   "outputs": [],
   "source": [
    "final[\"Text\"][100]"
   ]
  },
  {
   "cell_type": "code",
   "execution_count": null,
   "id": "cd85413b",
   "metadata": {},
   "outputs": [],
   "source": [
    "df[\"Text\"].str.contains(\"https?\").sum()"
   ]
  },
  {
   "cell_type": "code",
   "execution_count": null,
   "id": "460ce982",
   "metadata": {},
   "outputs": [],
   "source": [
    "pd.set_option(\"display.max_rows\",None)\n",
    "df[\"Text\"].str.contains(\"https?\")"
   ]
  },
  {
   "cell_type": "code",
   "execution_count": null,
   "id": "795de48f",
   "metadata": {},
   "outputs": [],
   "source": [
    "review = df[\"Text\"][41409]\n",
    "review"
   ]
  },
  {
   "cell_type": "code",
   "execution_count": null,
   "id": "7e6a8c75",
   "metadata": {},
   "outputs": [],
   "source": [
    "# compile used to find patterns and  w+ shows more than one word characters"
   ]
  },
  {
   "cell_type": "code",
   "execution_count": null,
   "id": "60670249",
   "metadata": {},
   "outputs": [],
   "source": [
    "import re\n",
    "\n",
    "url_pattern = re.compile(r'href=https.\\w+')\n",
    "url_pattern.sub(r'', review)"
   ]
  }
 ],
 "metadata": {
  "kernelspec": {
   "display_name": "Python 3 (ipykernel)",
   "language": "python",
   "name": "python3"
  },
  "language_info": {
   "codemirror_mode": {
    "name": "ipython",
    "version": 3
   },
   "file_extension": ".py",
   "mimetype": "text/x-python",
   "name": "python",
   "nbconvert_exporter": "python",
   "pygments_lexer": "ipython3",
   "version": "3.11.4"
  }
 },
 "nbformat": 4,
 "nbformat_minor": 5
}
